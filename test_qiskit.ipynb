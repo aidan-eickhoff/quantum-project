{
 "cells": [
  {
   "cell_type": "code",
   "execution_count": 3,
   "metadata": {},
   "outputs": [
    {
     "name": "stdout",
     "output_type": "stream",
     "text": [
      "Requirement already satisfied: qiskit in c:\\users\\marks\\appdata\\local\\packages\\pythonsoftwarefoundation.python.3.9_qbz5n2kfra8p0\\localcache\\local-packages\\python39\\site-packages (1.3.1)\n",
      "Requirement already satisfied: rustworkx>=0.15.0 in c:\\users\\marks\\appdata\\local\\packages\\pythonsoftwarefoundation.python.3.9_qbz5n2kfra8p0\\localcache\\local-packages\\python39\\site-packages (from qiskit) (0.15.1)\n",
      "Requirement already satisfied: numpy<3,>=1.17 in c:\\users\\marks\\appdata\\local\\packages\\pythonsoftwarefoundation.python.3.9_qbz5n2kfra8p0\\localcache\\local-packages\\python39\\site-packages (from qiskit) (1.23.2)\n",
      "Requirement already satisfied: scipy>=1.5 in c:\\users\\marks\\appdata\\local\\packages\\pythonsoftwarefoundation.python.3.9_qbz5n2kfra8p0\\localcache\\local-packages\\python39\\site-packages (from qiskit) (1.10.0)\n",
      "Requirement already satisfied: sympy>=1.3 in c:\\users\\marks\\appdata\\local\\packages\\pythonsoftwarefoundation.python.3.9_qbz5n2kfra8p0\\localcache\\local-packages\\python39\\site-packages (from qiskit) (1.12)\n",
      "Requirement already satisfied: dill>=0.3 in c:\\users\\marks\\appdata\\local\\packages\\pythonsoftwarefoundation.python.3.9_qbz5n2kfra8p0\\localcache\\local-packages\\python39\\site-packages (from qiskit) (0.3.7)\n",
      "Requirement already satisfied: python-dateutil>=2.8.0 in c:\\users\\marks\\appdata\\local\\packages\\pythonsoftwarefoundation.python.3.9_qbz5n2kfra8p0\\localcache\\local-packages\\python39\\site-packages (from qiskit) (2.8.2)\n",
      "Requirement already satisfied: stevedore>=3.0.0 in c:\\users\\marks\\appdata\\local\\packages\\pythonsoftwarefoundation.python.3.9_qbz5n2kfra8p0\\localcache\\local-packages\\python39\\site-packages (from qiskit) (5.4.0)\n",
      "Requirement already satisfied: typing-extensions in c:\\users\\marks\\appdata\\local\\packages\\pythonsoftwarefoundation.python.3.9_qbz5n2kfra8p0\\localcache\\local-packages\\python39\\site-packages (from qiskit) (4.9.0)\n",
      "Requirement already satisfied: symengine<0.14,>=0.11 in c:\\users\\marks\\appdata\\local\\packages\\pythonsoftwarefoundation.python.3.9_qbz5n2kfra8p0\\localcache\\local-packages\\python39\\site-packages (from qiskit) (0.13.0)\n",
      "Requirement already satisfied: six>=1.5 in c:\\users\\marks\\appdata\\local\\packages\\pythonsoftwarefoundation.python.3.9_qbz5n2kfra8p0\\localcache\\local-packages\\python39\\site-packages (from python-dateutil>=2.8.0->qiskit) (1.16.0)\n",
      "Requirement already satisfied: pbr>=2.0.0 in c:\\users\\marks\\appdata\\local\\packages\\pythonsoftwarefoundation.python.3.9_qbz5n2kfra8p0\\localcache\\local-packages\\python39\\site-packages (from stevedore>=3.0.0->qiskit) (6.1.0)\n",
      "Requirement already satisfied: mpmath>=0.19 in c:\\users\\marks\\appdata\\local\\packages\\pythonsoftwarefoundation.python.3.9_qbz5n2kfra8p0\\localcache\\local-packages\\python39\\site-packages (from sympy>=1.3->qiskit) (1.3.0)\n"
     ]
    }
   ],
   "source": [
    "!pip install qiskit"
   ]
  },
  {
   "cell_type": "code",
   "execution_count": 16,
   "metadata": {},
   "outputs": [
    {
     "name": "stdout",
     "output_type": "stream",
     "text": [
      "[0.70710678 0.         0.70710678]\n"
     ]
    },
    {
     "data": {
      "image/png": "[encoded data removed]",
      "text/plain": [
       "<Figure size 663.998x284.278 with 1 Axes>"
      ]
     },
     "execution_count": 16,
     "metadata": {},
     "output_type": "execute_result"
    }
   ],
   "source": [
    "from qiskit import QuantumCircuit, transpile\n",
    "from qiskit.visualization import plot_histogram, plot_state_city\n",
    "from qiskit.circuit.library import UnitaryGate\n",
    "import numpy as np\n",
    "import math\n",
    "\n",
    "rotation_vector = np.array([1,0,1])\n",
    "rotation_vector = rotation_vector / np.sqrt((rotation_vector.dot(rotation_vector)))\n",
    "print(rotation_vector)\n",
    "magnitude = math.pi\n",
    "rotation_vector = rotation_vector * magnitude\n",
    " \n",
    "# matrix = [[1, 0, 0, 0],\n",
    "#           [0, 1, 0, 0],\n",
    "#           [0, 0, 0, 1],\n",
    "#           [0, 0, 1, 0]]\n",
    "\n",
    "# gate = UnitaryGate(matrix)\n",
    " \n",
    "circuit = QuantumCircuit(2) # ,2\n",
    "\n",
    "# circuit.h(0)\n",
    "\n",
    "# circuit.append(gate, [0, 1])\n",
    "\n",
    "circuit.rv(*rotation_vector,0)\n",
    "\n",
    "circuit.cx(0,1)\n",
    "\n",
    "circuit.measure_all()\n",
    "# circuit.measure(0,0)\n",
    "\n",
    "circuit.draw(\"mpl\")\n",
    "\n"
   ]
  },
  {
   "cell_type": "code",
   "execution_count": 17,
   "metadata": {},
   "outputs": [],
   "source": [
    "from qiskit_aer import AerSimulator\n",
    "\n",
    "# Transpile for simulator\n",
    "simulator = AerSimulator()\n",
    "circuit = transpile(circuit, simulator)"
   ]
  },
  {
   "cell_type": "code",
   "execution_count": 19,
   "metadata": {},
   "outputs": [
    {
     "name": "stdout",
     "output_type": "stream",
     "text": [
      "{'00': 526, '11': 498}\n",
      "{'11': 524, '00': 500}\n",
      "{'00': 519, '11': 505}\n",
      "{'11': 547, '00': 477}\n",
      "{'00': 533, '11': 491}\n",
      "{'11': 517, '00': 507}\n",
      "{'11': 503, '00': 521}\n",
      "{'11': 495, '00': 529}\n",
      "{'11': 519, '00': 505}\n",
      "{'11': 524, '00': 500}\n",
      "{'11': 493, '00': 531}\n",
      "{'00': 493, '11': 531}\n",
      "{'00': 525, '11': 499}\n",
      "{'11': 517, '00': 507}\n",
      "{'00': 508, '11': 516}\n",
      "{'11': 505, '00': 519}\n",
      "{'00': 516, '11': 508}\n",
      "{'11': 477, '00': 547}\n",
      "{'11': 532, '00': 492}\n",
      "{'00': 513, '11': 511}\n",
      "{'11': 501, '00': 523}\n",
      "{'11': 504, '00': 520}\n",
      "{'00': 521, '11': 503}\n",
      "{'00': 521, '11': 503}\n",
      "{'00': 485, '11': 539}\n",
      "{'11': 502, '00': 522}\n",
      "{'11': 531, '00': 493}\n",
      "{'00': 529, '11': 495}\n",
      "{'11': 495, '00': 529}\n",
      "{'00': 510, '11': 514}\n",
      "{'11': 494, '00': 530}\n",
      "{'00': 513, '11': 511}\n",
      "{'11': 499, '00': 525}\n",
      "{'00': 508, '11': 516}\n",
      "{'11': 515, '00': 509}\n",
      "{'11': 505, '00': 519}\n",
      "{'00': 534, '11': 490}\n",
      "{'11': 514, '00': 510}\n",
      "{'11': 500, '00': 524}\n",
      "{'00': 516, '11': 508}\n",
      "{'11': 504, '00': 520}\n",
      "{'00': 517, '11': 507}\n",
      "{'11': 534, '00': 490}\n",
      "{'11': 510, '00': 514}\n",
      "{'00': 507, '11': 517}\n",
      "{'11': 500, '00': 524}\n",
      "{'00': 521, '11': 503}\n",
      "{'11': 509, '00': 515}\n",
      "{'00': 516, '11': 508}\n",
      "{'00': 520, '11': 504}\n",
      "{'00': 509, '11': 515}\n",
      "{'00': 528, '11': 496}\n",
      "{'11': 516, '00': 508}\n",
      "{'00': 510, '11': 514}\n",
      "{'11': 542, '00': 482}\n",
      "{'11': 531, '00': 493}\n",
      "{'00': 513, '11': 511}\n",
      "{'11': 494, '00': 530}\n",
      "{'00': 508, '11': 516}\n",
      "{'00': 520, '11': 504}\n",
      "{'00': 528, '11': 496}\n",
      "{'00': 499, '11': 525}\n",
      "{'11': 493, '00': 531}\n",
      "{'11': 513, '00': 511}\n",
      "{'00': 510, '11': 514}\n",
      "{'11': 522, '00': 502}\n",
      "{'00': 516, '11': 508}\n",
      "{'11': 526, '00': 498}\n",
      "{'11': 492, '00': 532}\n",
      "{'11': 505, '00': 519}\n",
      "{'11': 506, '00': 518}\n",
      "{'00': 514, '11': 510}\n",
      "{'00': 496, '11': 528}\n",
      "{'11': 534, '00': 490}\n",
      "{'00': 513, '11': 511}\n",
      "{'00': 503, '11': 521}\n",
      "{'11': 491, '00': 533}\n",
      "{'00': 513, '11': 511}\n",
      "{'11': 512, '00': 512}\n",
      "{'00': 498, '11': 526}\n",
      "{'00': 528, '11': 496}\n",
      "{'00': 512, '11': 512}\n",
      "{'00': 517, '11': 507}\n",
      "{'11': 522, '00': 502}\n",
      "{'11': 531, '00': 493}\n",
      "{'00': 481, '11': 543}\n",
      "{'11': 503, '00': 521}\n",
      "{'11': 496, '00': 528}\n",
      "{'00': 512, '11': 512}\n",
      "{'11': 499, '00': 525}\n",
      "{'11': 481, '00': 543}\n",
      "{'00': 518, '11': 506}\n",
      "{'11': 515, '00': 509}\n",
      "{'00': 522, '11': 502}\n",
      "{'00': 520, '11': 504}\n",
      "{'00': 510, '11': 514}\n",
      "{'00': 537, '11': 487}\n",
      "{'00': 530, '11': 494}\n",
      "{'00': 510, '11': 514}\n",
      "{'11': 506, '00': 518}\n",
      "{'00': 514.26, '01': 0.0, '10': 0.0, '11': 509.74}\n"
     ]
    },
    {
     "data": {
      "image/png": "[encoded data removed]",
      "text/plain": [
       "<Figure size 640x480 with 1 Axes>"
      ]
     },
     "execution_count": 19,
     "metadata": {},
     "output_type": "execute_result"
    }
   ],
   "source": [
    "# Run and get counts\n",
    "c00 = 0\n",
    "c10 = 0\n",
    "c01 = 0\n",
    "c11 = 0\n",
    "n=100\n",
    "for _ in range(n):\n",
    "    result = simulator.run(circuit).result()\n",
    "    counts = result.get_counts(circuit)\n",
    "    print(counts)\n",
    "    try:\n",
    "        c00+=counts['00']\n",
    "        \n",
    "    except KeyError: pass\n",
    "    try:\n",
    "        c10+=counts ['10']\n",
    "        \n",
    "    except KeyError: pass\n",
    "    try:\n",
    "        c01+=counts['01']\n",
    "        \n",
    "    except KeyError: pass\n",
    "    try:\n",
    "        c11+=counts ['11']\n",
    "        \n",
    "    except KeyError: pass\n",
    "\n",
    "counts = {\"00\":c00/n, \"01\":c01/n, \"10\":c10/n, \"11\":c11/n}\n",
    "print(counts)\n",
    "plot_histogram(counts, title='Bell-State counts')"
   ]
  },
  {
   "cell_type": "code",
   "execution_count": null,
   "metadata": {},
   "outputs": [],
   "source": []
  },
  {
   "cell_type": "code",
   "execution_count": null,
   "metadata": {},
   "outputs": [],
   "source": []
  }
 ],
 "metadata": {
  "kernelspec": {
   "display_name": "Python 3",
   "language": "python",
   "name": "python3"
  },
  "language_info": {
   "codemirror_mode": {
    "name": "ipython",
    "version": 3
   },
   "file_extension": ".py",
   "mimetype": "text/x-python",
   "name": "python",
   "nbconvert_exporter": "python",
   "pygments_lexer": "ipython3",
   "version": "3.9.13"
  }
 },
 "nbformat": 4,
 "nbformat_minor": 2
}
